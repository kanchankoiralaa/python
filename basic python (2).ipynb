{
 "cells": [
  {
   "cell_type": "markdown",
   "id": "03099526",
   "metadata": {},
   "source": [
    "Question no:1"
   ]
  },
  {
   "cell_type": "code",
   "execution_count": 2,
   "id": "29b16611",
   "metadata": {},
   "outputs": [
    {
     "name": "stdout",
     "output_type": "stream",
     "text": [
      "exception occured:cannot have pow() of string type\n"
     ]
    }
   ],
   "source": [
    "try:\n",
    "    for i in ['a','b','c']:\n",
    "        print(i**2)\n",
    "except:\n",
    "    print(\"exception occured:cannot have pow() of string type\")"
   ]
  },
  {
   "cell_type": "markdown",
   "id": "a30b7c1d",
   "metadata": {},
   "source": [
    "Question no:2"
   ]
  },
  {
   "cell_type": "code",
   "execution_count": 3,
   "id": "62ed4f23",
   "metadata": {},
   "outputs": [
    {
     "name": "stdout",
     "output_type": "stream",
     "text": [
      "Input an integer:3\n",
      "You entered 3, your number squared is:9\n"
     ]
    }
   ],
   "source": [
    "def SquareofNum():\n",
    "    while True:\n",
    "        try:\n",
    "            Num = int(input('Input an integer:'))  \n",
    "            Squ = Num**2   \n",
    "        except:\n",
    "            print(\"Unrecognized number! Please try again!\")\n",
    "            continue\n",
    "        else:\n",
    "            break\n",
    "    print(\"You entered {}, your number squared is:{}\".format(Num,Squ))\n",
    "    \n",
    "SquareofNum()"
   ]
  },
  {
   "cell_type": "markdown",
   "id": "cc5edd73",
   "metadata": {},
   "source": [
    "Question no:3"
   ]
  },
  {
   "cell_type": "code",
   "execution_count": 18,
   "id": "78b81220",
   "metadata": {},
   "outputs": [
    {
     "name": "stdout",
     "output_type": "stream",
     "text": [
      "Distance:9.433981132056603\n",
      "Slope:1.6\n"
     ]
    }
   ],
   "source": [
    "class Line:\n",
    "    def __init__(self,coordinateA,coordinateB):\n",
    "        self.A=coordinateA\n",
    "        self.B=coordinateB\n",
    "        \n",
    "    def distance(self):\n",
    "        dis=(((self.A[0]-self.B[0])**2)+((self.A[1]-self.B[1])**2))**(1/2)\n",
    "        print(\"Distance:{}\".format(dis))\n",
    "        \n",
    "    def slope(self):\n",
    "        slop=(self.B[1]-self.A[1])/(self.B[0]-self.A[0])\n",
    "        print(\"Slope:{}\".format(slop))\n",
    "    \n",
    "c1 = (3, 2)\n",
    "c2 = (8, 10)\n",
    "myline = Line(c1, c2)\n",
    "myline.distance()\n",
    "myline.slope()\n"
   ]
  },
  {
   "cell_type": "markdown",
   "id": "37048a65",
   "metadata": {},
   "source": [
    "Question no:4"
   ]
  },
  {
   "cell_type": "code",
   "execution_count": null,
   "id": "bb21e431",
   "metadata": {},
   "outputs": [],
   "source": [
    "#i have put the direct value of pi = 3.14"
   ]
  },
  {
   "cell_type": "code",
   "execution_count": 23,
   "id": "cdb9084a",
   "metadata": {},
   "outputs": [
    {
     "name": "stdout",
     "output_type": "stream",
     "text": [
      "Volume:3.14\n",
      "Total Surface Area:12.56\n",
      "Volume:6.28\n",
      "Total Surface Area:18.84\n",
      "Volume:141.3\n",
      "Total Surface Area:150.72\n"
     ]
    }
   ],
   "source": [
    "class Cylinder:\n",
    "    def __init__(self,height=1,radius=1):\n",
    "        self.h=height\n",
    "        self.r=radius\n",
    "        \n",
    "    def volume(self):\n",
    "        vol=3.14*(self.r**2)*self.h\n",
    "        print(\"Volume:{}\".format(vol))\n",
    "        \n",
    "    def surface_area(self):\n",
    "        TSA=2*3.14*self.r*(self.r+self.h)\n",
    "        print(\"Total Surface Area:{}\".format(TSA))\n",
    "\n",
    "myCylinder1 = Cylinder()\n",
    "myCylinder2 = Cylinder(2)\n",
    "myCylinder3 = Cylinder(5,3)\n",
    "myCylinder1.volume()\n",
    "myCylinder1.surface_area()\n",
    "myCylinder2.volume()\n",
    "myCylinder2.surface_area()\n",
    "myCylinder3.volume()\n",
    "myCylinder3.surface_area()"
   ]
  },
  {
   "cell_type": "markdown",
   "id": "3065d07e",
   "metadata": {},
   "source": [
    "Question no:5"
   ]
  },
  {
   "cell_type": "code",
   "execution_count": 26,
   "id": "061db69f",
   "metadata": {},
   "outputs": [
    {
     "name": "stdout",
     "output_type": "stream",
     "text": [
      "Enter a String: kajal! naam toh suna hoga\n",
      "KAJAL! NAAM TOH SUNA HOGA\n"
     ]
    }
   ],
   "source": [
    "class InputOutString:\n",
    "    def getString(self):\n",
    "        self.inputString=input(\"Enter a String: \")\n",
    "        \n",
    "    def printString(self):\n",
    "        print(self.inputString.upper())\n",
    "        \n",
    "MyObj = InputOutString()\n",
    "MyObj.getString()\n",
    "MyObj.printString()"
   ]
  },
  {
   "cell_type": "markdown",
   "id": "46e11163",
   "metadata": {},
   "source": [
    "Question no:6"
   ]
  },
  {
   "cell_type": "code",
   "execution_count": null,
   "id": "c8086d36",
   "metadata": {},
   "outputs": [],
   "source": [
    "f_in= open('myfile.txt','r')\n",
    "f_out = open('myfile1.txt','w+')\n",
    "lines = f_in.read()\n",
    "f_out.write(lines)\n",
    "f_in.close()\n",
    "f_out.close()"
   ]
  },
  {
   "cell_type": "markdown",
   "id": "93b34684",
   "metadata": {},
   "source": [
    "question no:7"
   ]
  },
  {
   "cell_type": "code",
   "execution_count": 28,
   "id": "cdb3a031",
   "metadata": {},
   "outputs": [
    {
     "name": "stdout",
     "output_type": "stream",
     "text": [
      "13\n"
     ]
    }
   ],
   "source": [
    "sumofsquare = lambda x, y: x**2 + y**2\n",
    "print (sumofsquare (2, 3))"
   ]
  }
 ],
 "metadata": {
  "kernelspec": {
   "display_name": "Python 3 (ipykernel)",
   "language": "python",
   "name": "python3"
  },
  "language_info": {
   "codemirror_mode": {
    "name": "ipython",
    "version": 3
   },
   "file_extension": ".py",
   "mimetype": "text/x-python",
   "name": "python",
   "nbconvert_exporter": "python",
   "pygments_lexer": "ipython3",
   "version": "3.9.7"
  }
 },
 "nbformat": 4,
 "nbformat_minor": 5
}
