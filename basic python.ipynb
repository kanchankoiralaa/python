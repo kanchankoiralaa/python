{
 "cells": [
  {
   "cell_type": "markdown",
   "id": "c9948d9d",
   "metadata": {},
   "source": [
    "       ASSIGNMENT 1"
   ]
  },
  {
   "cell_type": "markdown",
   "id": "cf3b4cf4",
   "metadata": {},
   "source": [
    " NAME: Kanchan Koirala\n",
    "  level-3\n",
    "  section'b'"
   ]
  },
  {
   "cell_type": "markdown",
   "id": "6d02ef88",
   "metadata": {},
   "source": [
    "Questoin no :1"
   ]
  },
  {
   "cell_type": "code",
   "execution_count": 1,
   "id": "1ccb8ff4",
   "metadata": {},
   "outputs": [
    {
     "name": "stdout",
     "output_type": "stream",
     "text": [
      "2002 2009 2016 2023 2037 2044 2051 2058 2072 2079 2086 2093 2107 2114 2121 2128 2142 2149 2156 2163 2177 2184 2191 2198 2212 2219 2226 2233 2247 2254 2261 2268 2282 2289 2296 2303 2317 2324 2331 2338 2352 2359 2366 2373 2387 2394 2401 2408 2422 2429 2436 2443 2457 2464 2471 2478 2492 2499 2506 2513 2527 2534 2541 2548 2562 2569 2576 2583 2597 2604 2611 2618 2632 2639 2646 2653 2667 2674 2681 2688 2702 2709 2716 2723 2737 2744 2751 2758 2772 2779 2786 2793 2807 2814 2821 2828 2842 2849 2856 2863 2877 2884 2891 2898 2912 2919 2926 2933 2947 2954 2961 2968 2982 2989 2996 3003 3017 3024 3031 3038 3052 3059 3066 3073 3087 3094 3101 3108 3122 3129 3136 3143 3157 3164 3171 3178 3192 3199 "
     ]
    }
   ],
   "source": [
    "for i in range(2000,3201):\n",
    "    if i%7==0 and i%5!=0:\n",
    "        print(i,end=\" \")"
   ]
  },
  {
   "cell_type": "markdown",
   "id": "4d8b9bea",
   "metadata": {},
   "source": [
    "Question no:2"
   ]
  },
  {
   "cell_type": "code",
   "execution_count": 2,
   "id": "5488863b",
   "metadata": {},
   "outputs": [
    {
     "name": "stdout",
     "output_type": "stream",
     "text": [
      "120\n"
     ]
    }
   ],
   "source": [
    "def factorial(n):\n",
    "   if n == 1:\n",
    "       return n\n",
    "   else:\n",
    "       return n*factorial(n-1)\n",
    "print(factorial(5))"
   ]
  },
  {
   "cell_type": "markdown",
   "id": "7d3c19b3",
   "metadata": {},
   "source": [
    "Question no:3"
   ]
  },
  {
   "cell_type": "code",
   "execution_count": 3,
   "id": "5d4e5ac8",
   "metadata": {},
   "outputs": [
    {
     "name": "stdout",
     "output_type": "stream",
     "text": [
      "{1: 1, 2: 4, 3: 9, 4: 16, 5: 25, 6: 36, 7: 49, 8: 64}\n"
     ]
    }
   ],
   "source": [
    "def prog(number):\n",
    "    empty={}\n",
    "    for i in range(1,number+1):\n",
    "        empty[i]=i*i\n",
    "    return empty\n",
    "print(prog(8))"
   ]
  },
  {
   "cell_type": "markdown",
   "id": "785fa13f",
   "metadata": {},
   "source": [
    "Question no:4"
   ]
  },
  {
   "cell_type": "code",
   "execution_count": 5,
   "id": "8c9e3af1",
   "metadata": {},
   "outputs": [
    {
     "name": "stdout",
     "output_type": "stream",
     "text": [
      "Enter your first string:krishna\n",
      "Enter your second string:kajal\n",
      "krishna\n"
     ]
    }
   ],
   "source": [
    "string1=input(\"Enter your first string:\")\n",
    "string2=input((\"Enter your second string:\"))\n",
    "if len(string1)>len(string2):\n",
    "    print(string1)\n",
    "elif len(string2)>len(string1):\n",
    "    print(string2)\n",
    "else:\n",
    "    print(string1,string2)"
   ]
  },
  {
   "cell_type": "markdown",
   "id": "d9aca05f",
   "metadata": {},
   "source": [
    "Question no:5"
   ]
  },
  {
   "cell_type": "code",
   "execution_count": 6,
   "id": "c03a8a58",
   "metadata": {},
   "outputs": [
    {
     "name": "stdout",
     "output_type": "stream",
     "text": [
      "dict_values([1, 4, 27, 256, 3125, 46656, 823543, 16777216, 387420489, 10000000000, 285311670611, 8916100448256, 302875106592253, 11112006825558016, 437893890380859375, 18446744073709551616, 827240261886336764177, 39346408075296537575424, 1978419655660313589123979, 104857600000000000000000000])\n"
     ]
    }
   ],
   "source": [
    "def prog():\n",
    "    empty={}\n",
    "    for i in range(1,21):\n",
    "        empty[i]=i**i\n",
    "    return empty.values()\n",
    "print(prog())"
   ]
  },
  {
   "cell_type": "markdown",
   "id": "47b554bc",
   "metadata": {},
   "source": [
    "Questoin no:6"
   ]
  },
  {
   "cell_type": "code",
   "execution_count": 9,
   "id": "1bcef5d9",
   "metadata": {},
   "outputs": [
    {
     "name": "stdout",
     "output_type": "stream",
     "text": [
      "[1, 4, 27, 256, 3125, 46656, 823543, 16777216, 387420489, 10000000000, 285311670611, 8916100448256, 302875106592253, 11112006825558016, 437893890380859375, 18446744073709551616, 827240261886336764177, 39346408075296537575424, 1978419655660313589123979, 104857600000000000000000000]\n"
     ]
    }
   ],
   "source": [
    "empty=[]\n",
    "for i in range(1,21):\n",
    "    empty.append(i**i)\n",
    "print(empty)\n",
    "\n"
   ]
  },
  {
   "cell_type": "markdown",
   "id": "c4426b76",
   "metadata": {},
   "source": [
    "Question no:7"
   ]
  },
  {
   "cell_type": "code",
   "execution_count": 10,
   "id": "c99bc3e5",
   "metadata": {},
   "outputs": [
    {
     "name": "stdout",
     "output_type": "stream",
     "text": [
      "18446744073709551616\n",
      "827240261886336764177\n",
      "39346408075296537575424\n",
      "1978419655660313589123979\n",
      "104857600000000000000000000\n"
     ]
    }
   ],
   "source": [
    "empty=[]\n",
    "for i in range(1,21):\n",
    "    empty.append(i**i)\n",
    "\n",
    "for j in range(15,20):\n",
    "    print(empty[j])"
   ]
  },
  {
   "cell_type": "markdown",
   "id": "c537b044",
   "metadata": {},
   "source": [
    "Question no:8"
   ]
  },
  {
   "cell_type": "code",
   "execution_count": 11,
   "id": "189fdf90",
   "metadata": {},
   "outputs": [
    {
     "name": "stdout",
     "output_type": "stream",
     "text": [
      "Enter the value of in Celsius format :100\n",
      "The value of 100°C in Fahrenheit is 212.0\n"
     ]
    }
   ],
   "source": [
    "celsius_value=int(input(\"Enter the value of in Celsius format :\"))\n",
    "print(f\"The value of {celsius_value}°C in Fahrenheit is {celsius_value*(9/5)+32}\")"
   ]
  },
  {
   "cell_type": "markdown",
   "id": "ac11628c",
   "metadata": {},
   "source": [
    "Question no:9"
   ]
  },
  {
   "cell_type": "code",
   "execution_count": 4,
   "id": "c8c41760",
   "metadata": {
    "scrolled": false
   },
   "outputs": [
    {
     "name": "stdout",
     "output_type": "stream",
     "text": [
      "ODD\n",
      "7\n",
      "11\n",
      "19\n",
      "1\n",
      "37\n",
      "5\n",
      "3\n",
      "73\n"
     ]
    }
   ],
   "source": [
    "string=input()\n",
    "my_numbers=[7,2,4,11,19,24,66,1,42,22,37,5,3,92,73]\n",
    "if string==\"even\" or string==\"EVEN\" or string==\"Even\":\n",
    "    for i in my_numbers:\n",
    "        if i%2==0:\n",
    "            print(i)\n",
    "        else:\n",
    "            pass\n",
    "elif string==\"Odd\" or string==\"ODD\" or string==\"Odd\":\n",
    "    for i in my_numbers:\n",
    "        if i%2!=0:\n",
    "            print(i)\n",
    "        else:\n",
    "            pass\n",
    "else:\n",
    "    print(\"Unknown Input!\")"
   ]
  },
  {
   "cell_type": "code",
   "execution_count": 5,
   "id": "07b9ec20",
   "metadata": {},
   "outputs": [
    {
     "name": "stdout",
     "output_type": "stream",
     "text": [
      "EVEN\n",
      "2\n",
      "4\n",
      "24\n",
      "66\n",
      "42\n",
      "22\n",
      "92\n"
     ]
    }
   ],
   "source": [
    "string=input()\n",
    "my_numbers=[7,2,4,11,19,24,66,1,42,22,37,5,3,92,73]\n",
    "if string==\"even\" or string==\"EVEN\" or string==\"Even\":\n",
    "    for i in my_numbers:\n",
    "        if i%2==0:\n",
    "            print(i)\n",
    "        else:\n",
    "            pass\n",
    "elif string==\"Odd\" or string==\"ODD\" or string==\"Odd\":\n",
    "    for i in my_numbers:\n",
    "        if i%2!=0:\n",
    "            print(i)\n",
    "        else:\n",
    "            pass\n",
    "else:\n",
    "    print(\"Unknown Input!\")"
   ]
  },
  {
   "cell_type": "code",
   "execution_count": 6,
   "id": "b3ede86f",
   "metadata": {},
   "outputs": [
    {
     "name": "stdout",
     "output_type": "stream",
     "text": [
      "abc\n",
      "Unknown Input!\n"
     ]
    }
   ],
   "source": [
    "string=input()\n",
    "my_numbers=[7,2,4,11,19,24,66,1,42,22,37,5,3,92,73]\n",
    "if string==\"even\" or string==\"EVEN\" or string==\"Even\":\n",
    "    for i in my_numbers:\n",
    "        if i%2==0:\n",
    "            print(i)\n",
    "        else:\n",
    "            pass\n",
    "elif string==\"Odd\" or string==\"ODD\" or string==\"Odd\":\n",
    "    for i in my_numbers:\n",
    "        if i%2!=0:\n",
    "            print(i)\n",
    "        else:\n",
    "            pass\n",
    "else:\n",
    "    print(\"Unknown Input!\")"
   ]
  },
  {
   "cell_type": "markdown",
   "id": "59d57996",
   "metadata": {},
   "source": [
    "Question no:10"
   ]
  },
  {
   "cell_type": "code",
   "execution_count": 16,
   "id": "8e828cf0",
   "metadata": {},
   "outputs": [
    {
     "name": "stdout",
     "output_type": "stream",
     "text": [
      "1\n",
      "2\n",
      "Fizz\n",
      "4\n",
      "Buzz\n",
      "Fizz\n",
      "7\n",
      "8\n",
      "Fizz\n",
      "Buzz\n",
      "11\n",
      "Fizz\n",
      "13\n",
      "14\n",
      "Fizz Buzz\n",
      "16\n",
      "17\n",
      "Fizz\n",
      "19\n",
      "Buzz\n"
     ]
    }
   ],
   "source": [
    "for i in range(1,21):\n",
    "    if i%3==0 and i%5==0:\n",
    "        print(\"Fizz Buzz\")\n",
    "    elif i%3==0:\n",
    "        print(\"Fizz\")\n",
    "    elif i%5==0:\n",
    "        print(\"Buzz\")\n",
    "    else:\n",
    "        print(i)"
   ]
  }
 ],
 "metadata": {
  "kernelspec": {
   "display_name": "Python 3 (ipykernel)",
   "language": "python",
   "name": "python3"
  },
  "language_info": {
   "codemirror_mode": {
    "name": "ipython",
    "version": 3
   },
   "file_extension": ".py",
   "mimetype": "text/x-python",
   "name": "python",
   "nbconvert_exporter": "python",
   "pygments_lexer": "ipython3",
   "version": "3.9.7"
  }
 },
 "nbformat": 4,
 "nbformat_minor": 5
}
