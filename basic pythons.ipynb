{
 "cells": [
  {
   "cell_type": "markdown",
   "id": "8c59d6ed",
   "metadata": {},
   "source": [
    "ASSIGNMENT - 2\n",
    "\n",
    "Name :kanchan koirala\n",
    "BSc(hons)computing\n",
    "section'b'"
   ]
  },
  {
   "cell_type": "markdown",
   "id": "56d6fcfa",
   "metadata": {},
   "source": [
    "Question no.1"
   ]
  },
  {
   "cell_type": "code",
   "execution_count": 1,
   "id": "d0994779",
   "metadata": {},
   "outputs": [
    {
     "name": "stdout",
     "output_type": "stream",
     "text": [
      "<class 'tuple'>\n",
      "(7, 49)\n"
     ]
    }
   ],
   "source": [
    "def square(a):\n",
    "    return a,a**2\n",
    "\n",
    "print(type(square(4)))\n",
    "print(square(7))"
   ]
  },
  {
   "cell_type": "markdown",
   "id": "ab1bea5d",
   "metadata": {},
   "source": [
    "Question:2"
   ]
  },
  {
   "cell_type": "code",
   "execution_count": 18,
   "id": "62fafc11",
   "metadata": {},
   "outputs": [
    {
     "name": "stdout",
     "output_type": "stream",
     "text": [
      "Enter first String:kajal\n",
      "Enter second String:koirala\n",
      "kajalkoirala\n"
     ]
    }
   ],
   "source": [
    "def conc():\n",
    "    str_1 = input(\"Enter first String:\")\n",
    "    str_2  =input(\"Enter second String:\")\n",
    "    return str_1+str_2\n",
    "\n",
    "print(conc())"
   ]
  },
  {
   "cell_type": "code",
   "execution_count": null,
   "id": "0ccf052e",
   "metadata": {},
   "outputs": [],
   "source": [
    "Question:3"
   ]
  },
  {
   "cell_type": "code",
   "execution_count": 5,
   "id": "9c7aea49",
   "metadata": {},
   "outputs": [
    {
     "name": "stdout",
     "output_type": "stream",
     "text": [
      "Enter a number:5\n",
      "Odd Number\n"
     ]
    }
   ],
   "source": [
    "def num():\n",
    "    number =int (input(\"Enter a number:\"))\n",
    "    \n",
    "    if number%2==0:\n",
    "        print(\"Even Number\")\n",
    "    \n",
    "    else:\n",
    "        print(\"Odd Number\")\n",
    "    return\n",
    "\n",
    "num()"
   ]
  },
  {
   "cell_type": "code",
   "execution_count": 6,
   "id": "a4d34527",
   "metadata": {},
   "outputs": [
    {
     "name": "stdout",
     "output_type": "stream",
     "text": [
      "Enter a number:8\n",
      "Even Number\n"
     ]
    }
   ],
   "source": [
    "def num():\n",
    "    number =int (input(\"Enter a number:\"))\n",
    "    \n",
    "    if number%2==0:\n",
    "        print(\"Even Number\")\n",
    "    \n",
    "    else:\n",
    "        print(\"Odd Number\")\n",
    "    return\n",
    "\n",
    "num()"
   ]
  },
  {
   "cell_type": "code",
   "execution_count": null,
   "id": "bb16401d",
   "metadata": {},
   "outputs": [],
   "source": [
    "Question no:4"
   ]
  },
  {
   "cell_type": "code",
   "execution_count": 4,
   "id": "2d7fadb9",
   "metadata": {},
   "outputs": [
    {
     "name": "stdout",
     "output_type": "stream",
     "text": [
      "{1: 1, 2: 4, 3: 9, 4: 16, 5: 25, 6: 36, 7: 49, 8: 64, 9: 81, 10: 100, 11: 121, 12: 144, 13: 169, 14: 196, 15: 225, 16: 256, 17: 289, 18: 324, 19: 361, 20: 400}\n"
     ]
    }
   ],
   "source": [
    "def func():\n",
    "    num={}\n",
    "    for i in range(1,21):\n",
    "        num[i]=i**2\n",
    "    return num\n",
    "\n",
    "print(func())\n"
   ]
  },
  {
   "cell_type": "code",
   "execution_count": null,
   "id": "82331a49",
   "metadata": {},
   "outputs": [],
   "source": [
    "Question:5"
   ]
  },
  {
   "cell_type": "code",
   "execution_count": 5,
   "id": "bee23f45",
   "metadata": {},
   "outputs": [
    {
     "name": "stdout",
     "output_type": "stream",
     "text": [
      "Enter a number:6\n",
      "2.449489742783178\n"
     ]
    }
   ],
   "source": [
    "def squ_root():\n",
    "    number=float(input(\"Enter a number:\"))\n",
    "    \n",
    "    if number<0:\n",
    "        print(\"Error\")\n",
    "    \n",
    "    else:\n",
    "        print(number**(1/2))\n",
    "    return \n",
    "\n",
    "\n",
    "squ_root()"
   ]
  },
  {
   "cell_type": "code",
   "execution_count": 9,
   "id": "18e5bb89",
   "metadata": {},
   "outputs": [
    {
     "name": "stdout",
     "output_type": "stream",
     "text": [
      "Enter a number:-4\n",
      "Error\n"
     ]
    }
   ],
   "source": [
    "def squ_root():\n",
    "    number=int(input(\"Enter a number:\"))\n",
    "    \n",
    "    if number<0:\n",
    "        print(\"Error\")\n",
    "    \n",
    "    else:\n",
    "        print(number**(1/2))\n",
    "    return \n",
    "\n",
    "\n",
    "squ_root()"
   ]
  },
  {
   "cell_type": "markdown",
   "id": "5b371242",
   "metadata": {},
   "source": [
    "Question:6"
   ]
  },
  {
   "cell_type": "code",
   "execution_count": 1,
   "id": "84c34f02",
   "metadata": {},
   "outputs": [
    {
     "name": "stdout",
     "output_type": "stream",
     "text": [
      "[('Dan Mace', 98980000), ('Connor Meyer', 777890879), ('Adam Smith', 123087699), ('John Watson', 960008779)]\n"
     ]
    }
   ],
   "source": [
    "def compl():\n",
    "    name_list =[\"Dan Mace\", \"Connor Meyer\", \"Adam Smith\", \"John Watson\"]\n",
    "    number_list = [98980000, 777890879, 123087699, 960008779]\n",
    "    output_list=[]\n",
    "    output_list = [(name_list[i], number_list[i]) for i in range(0, len(name_list))]\n",
    "    return output_list\n",
    "print(compl())"
   ]
  },
  {
   "cell_type": "markdown",
   "id": "79f17b03",
   "metadata": {},
   "source": [
    "Question:7"
   ]
  },
  {
   "cell_type": "code",
   "execution_count": 3,
   "id": "8fd5fa61",
   "metadata": {},
   "outputs": [
    {
     "name": "stdout",
     "output_type": "stream",
     "text": [
      "(1, 2, 3, 4, 5)\n",
      "(6, 7, 8, 9, 10)\n"
     ]
    }
   ],
   "source": [
    "root_tuple = (1,2,3,4,5,6,7,8,9,10)\n",
    "tp1 = root_tuple[:5]\n",
    "tp2 = root_tuple[5:]\n",
    "\n",
    "print(tp1)\n",
    "print(tp2)"
   ]
  },
  {
   "cell_type": "markdown",
   "id": "486ae8c0",
   "metadata": {},
   "source": [
    "Question:8"
   ]
  },
  {
   "cell_type": "code",
   "execution_count": 6,
   "id": "0f29fca1",
   "metadata": {},
   "outputs": [
    {
     "name": "stdout",
     "output_type": "stream",
     "text": [
      "ksmith@thebritishcollege.edu.np\n",
      "rsouza@thebritishcollege.edu.np\n",
      "lgarber@thebritishcollege.edu.np\n",
      "aghods@thebritishcollege.edu.np\n",
      "shassan@thebritishcollege.edu.np\n",
      "proy@thebritishcollege.edu.np\n"
     ]
    }
   ],
   "source": [
    "student_username = [\"ksmith\", \"rsouza\", \"lgarber\", \"aghods\", \"shassan\", \"proy\"]\n",
    "\n",
    "for index in range(len(student_username)):\n",
    "\n",
    "    print(student_username[index]+\"@thebritishcollege.edu.np\")\n"
   ]
  },
  {
   "cell_type": "markdown",
   "id": "b22a07a0",
   "metadata": {},
   "source": [
    "Question no:9"
   ]
  },
  {
   "cell_type": "code",
   "execution_count": 26,
   "id": "9085d6a2",
   "metadata": {},
   "outputs": [
    {
     "name": "stdout",
     "output_type": "stream",
     "text": [
      "name:Dan Mace\n",
      "Contact no:98980000\n",
      "name:Connor Meyer\n",
      "Contact no:777890879\n",
      "name:Adam Smith\n",
      "Contact no:123087699\n",
      "name:John Watson\n",
      "Contact no:960008779\n"
     ]
    }
   ],
   "source": [
    "name_list = [ (\"Dan Mace\", 98980000), (\"Connor Meyer\", 777890879), (\"Adam Smith\",123087699), (\"John Watson\", 960008779) ]\n",
    "\n",
    "i=0\n",
    "while i <len(name_list):\n",
    "    print('name:{0}\\nContact no:{1}'.format(*name_list[i]))\n",
    "    i+=1"
   ]
  },
  {
   "cell_type": "markdown",
   "id": "48322483",
   "metadata": {},
   "source": [
    "Question no:10"
   ]
  },
  {
   "cell_type": "code",
   "execution_count": 28,
   "id": "afeef919",
   "metadata": {},
   "outputs": [
    {
     "name": "stdout",
     "output_type": "stream",
     "text": [
      "{'Dan Mace': 98980000, 'Connor Meyer': 777890879, 'Adam Smith': 123087699, 'John Watson': 960008779}\n"
     ]
    }
   ],
   "source": [
    "def Convert(iterable):\n",
    "    return {a:b for a, b in iterable}\n",
    "\n",
    "name_list = [(\"Dan Mace\", 98980000), (\"Connor Meyer\", 777890879), (\"Adam Smith\", 123087699), (\"John Watson\", 960008779)]\n",
    "print (Convert(name_list))\n"
   ]
  },
  {
   "cell_type": "markdown",
   "id": "b67dbbd0",
   "metadata": {},
   "source": [
    "Question no:11"
   ]
  },
  {
   "cell_type": "code",
   "execution_count": 33,
   "id": "3a06d702",
   "metadata": {},
   "outputs": [
    {
     "name": "stdout",
     "output_type": "stream",
     "text": [
      "12\n"
     ]
    }
   ],
   "source": [
    "def func():\n",
    "    input_str = 'If you count the words in this sentence you will get twelve'\n",
    "    print(len(input_str.split()))\n",
    "func()"
   ]
  },
  {
   "cell_type": "markdown",
   "id": "e3c424bc",
   "metadata": {},
   "source": [
    "Question no:12"
   ]
  },
  {
   "cell_type": "code",
   "execution_count": 1,
   "id": "fdab29a3",
   "metadata": {},
   "outputs": [
    {
     "name": "stdout",
     "output_type": "stream",
     "text": [
      "Enter the terms:7\n",
      "1 1 2 3 5 8 13 "
     ]
    }
   ],
   "source": [
    "a=int(input(\"Enter the terms:\"))\n",
    "f=1                                       \n",
    "s=1\n",
    "if a<=0:\n",
    "    print(\"The requested series is\",f)\n",
    "else:\n",
    "    print(f,s,end=\" \")\n",
    "    for x in range(2,a):\n",
    "        next=f+s                           \n",
    "        print(next,end=\" \")\n",
    "        f=s\n",
    "        s=next"
   ]
  },
  {
   "cell_type": "code",
   "execution_count": 2,
   "id": "d6e38a99",
   "metadata": {},
   "outputs": [
    {
     "name": "stdout",
     "output_type": "stream",
     "text": [
      "Enter the terms:9\n",
      "1 1 2 3 5 8 13 21 34 "
     ]
    }
   ],
   "source": [
    "a=int(input(\"Enter the terms:\"))\n",
    "f=1                                       \n",
    "s=1\n",
    "if a<=0:\n",
    "    print(\"The requested series is\",f)\n",
    "else:\n",
    "    print(f,s,end=\" \")\n",
    "    for x in range(2,a):\n",
    "        next=f+s                           \n",
    "        print(next,end=\" \")\n",
    "        f=s\n",
    "        s=next"
   ]
  },
  {
   "cell_type": "markdown",
   "id": "a77ce6be",
   "metadata": {},
   "source": [
    "Question no:13"
   ]
  },
  {
   "cell_type": "code",
   "execution_count": 3,
   "id": "bd9ad655",
   "metadata": {},
   "outputs": [
    {
     "name": "stdout",
     "output_type": "stream",
     "text": [
      "What do you want to choose rock, paper or scissors in lowercase?scissors\n",
      "What do  you want to choose rock, paper or scissors in lowercase?rock\n",
      "Rock wins!\n"
     ]
    }
   ],
   "source": [
    "user1 = input(\"What do you want to choose rock, paper or scissors in lowercase?\")\n",
    "user2 = input(\"What do  you want to choose rock, paper or scissors in lowercase?\")\n",
    "def compare(odr1, odr2):\n",
    "    if odr1 == odr2:\n",
    "        return(\"It's a tie!\")\n",
    "    elif odr1 == 'rock':\n",
    "        if odr2 == 'scissors':\n",
    "            return(\"Rock wins!\")\n",
    "        else:\n",
    "            return(\"Paper wins!\")\n",
    "    elif odr1 == 'scissors':\n",
    "        if odr2 == 'paper':\n",
    "            return(\"Scissors win!\")\n",
    "        else:\n",
    "            return(\"Rock wins!\")\n",
    "    elif odr1 == 'paper':\n",
    "        if odr2 == 'rock':\n",
    "            return(\"Paper wins!\")\n",
    "        else:\n",
    "            return(\"Scissors win!\")\n",
    "    else:\n",
    "        return(\"Invalid input! You have not entered rock, paper or scissors, try again.\")\n",
    "\n",
    "print(compare(user1,user2))"
   ]
  },
  {
   "cell_type": "markdown",
   "id": "90e8aee0",
   "metadata": {},
   "source": [
    "Question no:14"
   ]
  },
  {
   "cell_type": "code",
   "execution_count": 4,
   "id": "54e29001",
   "metadata": {},
   "outputs": [
    {
     "name": "stdout",
     "output_type": "stream",
     "text": [
      "1\n",
      "22\n",
      "333\n",
      "4444\n",
      "55555\n",
      "666666\n",
      "7777777\n",
      "88888888\n",
      "999999999\n"
     ]
    }
   ],
   "source": [
    "for i in range(1,10):\n",
    "    print(str(i)*i)"
   ]
  },
  {
   "cell_type": "markdown",
   "id": "5a800b32",
   "metadata": {},
   "source": [
    "Question no:15"
   ]
  },
  {
   "cell_type": "code",
   "execution_count": 5,
   "id": "2471dedb",
   "metadata": {},
   "outputs": [
    {
     "name": "stdout",
     "output_type": "stream",
     "text": [
      "s-i-t-c-o-m\n",
      "c-i-m-o-s-t\n"
     ]
    }
   ],
   "source": [
    "items=[n for n in input().split('-')]\n",
    "items.sort()\n",
    "print('-'.join(items))\n"
   ]
  }
 ],
 "metadata": {
  "kernelspec": {
   "display_name": "Python 3 (ipykernel)",
   "language": "python",
   "name": "python3"
  },
  "language_info": {
   "codemirror_mode": {
    "name": "ipython",
    "version": 3
   },
   "file_extension": ".py",
   "mimetype": "text/x-python",
   "name": "python",
   "nbconvert_exporter": "python",
   "pygments_lexer": "ipython3",
   "version": "3.9.7"
  }
 },
 "nbformat": 4,
 "nbformat_minor": 5
}
